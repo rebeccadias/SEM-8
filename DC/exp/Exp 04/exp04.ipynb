{
  "nbformat": 4,
  "nbformat_minor": 0,
  "metadata": {
    "colab": {
      "name": "exp04",
      "provenance": [],
      "collapsed_sections": []
    },
    "kernelspec": {
      "name": "python3",
      "display_name": "Python 3"
    },
    "language_info": {
      "name": "python"
    }
  },
  "cells": [
    {
      "cell_type": "code",
      "execution_count": null,
      "metadata": {
        "colab": {
          "base_uri": "https://localhost:8080/"
        },
        "id": "OmltGeGOXfOJ",
        "outputId": "d5c947a0-ec02-4008-ad92-227e1b0948bf"
      },
      "outputs": [
        {
          "output_type": "stream",
          "name": "stdout",
          "text": [
            "Enter the number of processes: 8\n",
            "\n",
            "Co-ordinator Process: 8\n",
            "Co-ordinator Process Now Dead: 8\n",
            "[False, False, False, False, False, False, True, False]\n",
            "7\n",
            "\n",
            "\n",
            "Elected Co-ordinator Process : 8\n",
            "Sending Message To All Other Process...\n",
            "\n",
            "\tProcess 8 Elected Sending To Process : 1\n",
            "\n",
            "All Messages Sent!!!\n",
            "\n",
            "\tProcess 8 Elected Sending To Process : 2\n",
            "\n",
            "All Messages Sent!!!\n",
            "\n",
            "\tProcess 8 Elected Sending To Process : 3\n",
            "\n",
            "All Messages Sent!!!\n",
            "\n",
            "\tProcess 8 Elected Sending To Process : 4\n",
            "\n",
            "All Messages Sent!!!\n",
            "\n",
            "\tProcess 8 Elected Sending To Process : 5\n",
            "\n",
            "All Messages Sent!!!\n",
            "\n",
            "\tProcess 8 Elected Sending To Process : 6\n",
            "\n",
            "All Messages Sent!!!\n",
            "\n",
            "\tProcess 8 Elected Sending To Process : 7\n",
            "\n",
            "All Messages Sent!!!\n",
            "\n",
            "\tProcess 8 Elected Sending To Process : 8\n",
            "\n",
            "All Messages Sent!!!\n"
          ]
        }
      ],
      "source": [
        "import random\n",
        "\n",
        "n = int(input(\"Enter the number of processes: \"))\n",
        "\n",
        "processes = []\n",
        "prev_request = -1\n",
        "for i in range(n):\n",
        "  processes.append(bool(random.getrandbits(1)))\n",
        "\n",
        "processes[n-1] = False\n",
        "print(\"\\nCo-ordinator Process: \"+ str(n) +\"\\nCo-ordinator Process Now Dead: \"+ str(n) )\n",
        "\n",
        "request = random.randrange(n)\n",
        "print(processes)\n",
        "print(request)\n",
        "\n",
        "def bully(request):\n",
        "  for j in range(request + 1, n):\n",
        "    print(\"\\n\\tReply from process: \" + str(j+1) + \" OK\" if processes[j] == 1 else \"\")\n",
        "\n",
        "    if processes[j]:\n",
        "      request = j\n",
        "      break\n",
        "\n",
        "while( request < n - 1 and prev_request != request ):\n",
        "  print(\"\\n\\nRequesting Process : \" + str(request + 1))\n",
        "  for i in range(request + 1, n):\n",
        "    print(\"\\n\\tSending Election To : \" + str((i + 1)))\n",
        "  print()\n",
        "  prev_request = request\n",
        "  bully(request)\n",
        "\n",
        "print(\"\\n\\nElected Co-ordinator Process : \" + str((request + 1)) + \"\\nSending Message To All Other Process...\")\n",
        "for i in range(n):\n",
        "  print(\"\\n\\tProcess \" + str((request + 1)) + \" Elected Sending To Process : \" + str((i + 1)))\n",
        "  print(\"\\nAll Messages Sent!!!\")\n"
      ]
    }
  ]
}